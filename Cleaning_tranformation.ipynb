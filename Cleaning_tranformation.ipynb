{
 "cells": [
  {
   "cell_type": "markdown",
   "id": "985256f5",
   "metadata": {},
   "source": [
    "# Bike rental data Cleaning "
   ]
  },
  {
   "cell_type": "markdown",
   "id": "b17cd28f",
   "metadata": {},
   "source": [
    "### Library and Data Imports"
   ]
  },
  {
   "cell_type": "code",
   "execution_count": 172,
   "id": "9727c755",
   "metadata": {},
   "outputs": [],
   "source": [
    "import pandas as pd\n",
    "import numpy as np\n",
    "import glob"
   ]
  },
  {
   "cell_type": "code",
   "execution_count": 237,
   "id": "aae19cc7",
   "metadata": {},
   "outputs": [],
   "source": [
    "#creating list of filenames using glob library\n",
    "files = glob.glob(\"bike-rental-starter-kit/data/JC-******-citibike-tripdata.csv\")\n",
    "#iterating through the list of filenames and appending data frames to the list\n",
    "df_list=[]\n",
    "for filename in files:\n",
    "    data = pd.read_csv(filename)\n",
    "    df_list.append(data)\n",
    "bikes_df = pd.concat(df_list)\n",
    "#importing the weather file\n",
    "weather_df = pd.read_csv('bike-rental-starter-kit/data/newark_airport_2016.csv')\n"
   ]
  },
  {
   "cell_type": "markdown",
   "id": "14bc3d1d",
   "metadata": {},
   "source": [
    "### Citi Bike Data Overview"
   ]
  },
  {
   "cell_type": "code",
   "execution_count": 207,
   "id": "f8d3d764",
   "metadata": {
    "scrolled": false
   },
   "outputs": [
    {
     "data": {
      "text/html": [
       "<div>\n",
       "<style scoped>\n",
       "    .dataframe tbody tr th:only-of-type {\n",
       "        vertical-align: middle;\n",
       "    }\n",
       "\n",
       "    .dataframe tbody tr th {\n",
       "        vertical-align: top;\n",
       "    }\n",
       "\n",
       "    .dataframe thead th {\n",
       "        text-align: right;\n",
       "    }\n",
       "</style>\n",
       "<table border=\"1\" class=\"dataframe\">\n",
       "  <thead>\n",
       "    <tr style=\"text-align: right;\">\n",
       "      <th></th>\n",
       "      <th>Trip Duration</th>\n",
       "      <th>Start Time</th>\n",
       "      <th>Stop Time</th>\n",
       "      <th>Start Station ID</th>\n",
       "      <th>Start Station Name</th>\n",
       "      <th>Start Station Latitude</th>\n",
       "      <th>Start Station Longitude</th>\n",
       "      <th>End Station ID</th>\n",
       "      <th>End Station Name</th>\n",
       "      <th>End Station Latitude</th>\n",
       "      <th>End Station Longitude</th>\n",
       "      <th>Bike ID</th>\n",
       "      <th>User Type</th>\n",
       "      <th>Birth Year</th>\n",
       "      <th>Gender</th>\n",
       "    </tr>\n",
       "  </thead>\n",
       "  <tbody>\n",
       "    <tr>\n",
       "      <th>0</th>\n",
       "      <td>361</td>\n",
       "      <td>2016-02-01 00:31:18</td>\n",
       "      <td>2016-02-01 00:37:19</td>\n",
       "      <td>3202</td>\n",
       "      <td>Newport PATH</td>\n",
       "      <td>40.727224</td>\n",
       "      <td>-74.033759</td>\n",
       "      <td>3203</td>\n",
       "      <td>Hamilton Park</td>\n",
       "      <td>40.727596</td>\n",
       "      <td>-74.044247</td>\n",
       "      <td>24393</td>\n",
       "      <td>Subscriber</td>\n",
       "      <td>1975.0</td>\n",
       "      <td>1</td>\n",
       "    </tr>\n",
       "    <tr>\n",
       "      <th>1</th>\n",
       "      <td>297</td>\n",
       "      <td>2016-02-01 01:55:05</td>\n",
       "      <td>2016-02-01 02:00:02</td>\n",
       "      <td>3195</td>\n",
       "      <td>Sip Ave</td>\n",
       "      <td>40.730743</td>\n",
       "      <td>-74.063784</td>\n",
       "      <td>3194</td>\n",
       "      <td>McGinley Square</td>\n",
       "      <td>40.725340</td>\n",
       "      <td>-74.067622</td>\n",
       "      <td>24394</td>\n",
       "      <td>Subscriber</td>\n",
       "      <td>1985.0</td>\n",
       "      <td>2</td>\n",
       "    </tr>\n",
       "    <tr>\n",
       "      <th>2</th>\n",
       "      <td>1155</td>\n",
       "      <td>2016-02-01 02:40:05</td>\n",
       "      <td>2016-02-01 02:59:20</td>\n",
       "      <td>3183</td>\n",
       "      <td>Exchange Place</td>\n",
       "      <td>40.716247</td>\n",
       "      <td>-74.033459</td>\n",
       "      <td>3210</td>\n",
       "      <td>Pershing Field</td>\n",
       "      <td>40.742677</td>\n",
       "      <td>-74.051789</td>\n",
       "      <td>24676</td>\n",
       "      <td>Subscriber</td>\n",
       "      <td>1976.0</td>\n",
       "      <td>1</td>\n",
       "    </tr>\n",
       "  </tbody>\n",
       "</table>\n",
       "</div>"
      ],
      "text/plain": [
       "   Trip Duration           Start Time            Stop Time  Start Station ID  \\\n",
       "0            361  2016-02-01 00:31:18  2016-02-01 00:37:19              3202   \n",
       "1            297  2016-02-01 01:55:05  2016-02-01 02:00:02              3195   \n",
       "2           1155  2016-02-01 02:40:05  2016-02-01 02:59:20              3183   \n",
       "\n",
       "  Start Station Name  Start Station Latitude  Start Station Longitude  \\\n",
       "0       Newport PATH               40.727224               -74.033759   \n",
       "1            Sip Ave               40.730743               -74.063784   \n",
       "2     Exchange Place               40.716247               -74.033459   \n",
       "\n",
       "   End Station ID End Station Name  End Station Latitude  \\\n",
       "0            3203    Hamilton Park             40.727596   \n",
       "1            3194  McGinley Square             40.725340   \n",
       "2            3210   Pershing Field             40.742677   \n",
       "\n",
       "   End Station Longitude  Bike ID   User Type  Birth Year  Gender  \n",
       "0             -74.044247    24393  Subscriber      1975.0       1  \n",
       "1             -74.067622    24394  Subscriber      1985.0       2  \n",
       "2             -74.051789    24676  Subscriber      1976.0       1  "
      ]
     },
     "execution_count": 207,
     "metadata": {},
     "output_type": "execute_result"
    }
   ],
   "source": [
    "bikes_df.head(3)"
   ]
  },
  {
   "cell_type": "code",
   "execution_count": 234,
   "id": "5bd48ab5",
   "metadata": {
    "scrolled": true
   },
   "outputs": [
    {
     "data": {
      "text/html": [
       "<div>\n",
       "<style scoped>\n",
       "    .dataframe tbody tr th:only-of-type {\n",
       "        vertical-align: middle;\n",
       "    }\n",
       "\n",
       "    .dataframe tbody tr th {\n",
       "        vertical-align: top;\n",
       "    }\n",
       "\n",
       "    .dataframe thead th {\n",
       "        text-align: right;\n",
       "    }\n",
       "</style>\n",
       "<table border=\"1\" class=\"dataframe\">\n",
       "  <thead>\n",
       "    <tr style=\"text-align: right;\">\n",
       "      <th></th>\n",
       "      <th>trip_duration</th>\n",
       "      <th>start_time</th>\n",
       "      <th>stop_time</th>\n",
       "      <th>start_station_id</th>\n",
       "      <th>start_station_name</th>\n",
       "      <th>start_station_latitude</th>\n",
       "      <th>start_station_longitude</th>\n",
       "      <th>end_station_id</th>\n",
       "      <th>end_station_name</th>\n",
       "      <th>end_station_latitude</th>\n",
       "      <th>end_station_longitude</th>\n",
       "      <th>bike_id</th>\n",
       "      <th>user_type</th>\n",
       "      <th>birth_year</th>\n",
       "      <th>gender</th>\n",
       "      <th>trip_minutes</th>\n",
       "      <th>trip_hours</th>\n",
       "      <th>valid_duration</th>\n",
       "      <th>age</th>\n",
       "      <th>id</th>\n",
       "    </tr>\n",
       "  </thead>\n",
       "  <tbody>\n",
       "    <tr>\n",
       "      <th>247569</th>\n",
       "      <td>2048</td>\n",
       "      <td>2016-05-31 23:25:28</td>\n",
       "      <td>2016-05-31 23:59:36</td>\n",
       "      <td>3199</td>\n",
       "      <td>Newport Pkwy</td>\n",
       "      <td>40.728745</td>\n",
       "      <td>-74.032108</td>\n",
       "      <td>3199</td>\n",
       "      <td>Newport Pkwy</td>\n",
       "      <td>40.728745</td>\n",
       "      <td>-74.032108</td>\n",
       "      <td>24573</td>\n",
       "      <td>Subscriber</td>\n",
       "      <td>1975.0</td>\n",
       "      <td>1</td>\n",
       "      <td>34.13</td>\n",
       "      <td>0.57</td>\n",
       "      <td>True</td>\n",
       "      <td>48.0</td>\n",
       "      <td>247569</td>\n",
       "    </tr>\n",
       "    <tr>\n",
       "      <th>247570</th>\n",
       "      <td>455</td>\n",
       "      <td>2016-05-31 23:31:57</td>\n",
       "      <td>2016-05-31 23:39:32</td>\n",
       "      <td>3220</td>\n",
       "      <td>5 Corners Library</td>\n",
       "      <td>40.734961</td>\n",
       "      <td>-74.059503</td>\n",
       "      <td>3215</td>\n",
       "      <td>Central Ave</td>\n",
       "      <td>40.746730</td>\n",
       "      <td>-74.049251</td>\n",
       "      <td>24561</td>\n",
       "      <td>Subscriber</td>\n",
       "      <td>1964.0</td>\n",
       "      <td>1</td>\n",
       "      <td>7.58</td>\n",
       "      <td>0.13</td>\n",
       "      <td>True</td>\n",
       "      <td>59.0</td>\n",
       "      <td>247570</td>\n",
       "    </tr>\n",
       "    <tr>\n",
       "      <th>247571</th>\n",
       "      <td>239</td>\n",
       "      <td>2016-05-31 23:47:38</td>\n",
       "      <td>2016-05-31 23:51:37</td>\n",
       "      <td>3185</td>\n",
       "      <td>City Hall</td>\n",
       "      <td>40.717732</td>\n",
       "      <td>-74.043845</td>\n",
       "      <td>3211</td>\n",
       "      <td>Newark Ave</td>\n",
       "      <td>40.721525</td>\n",
       "      <td>-74.046305</td>\n",
       "      <td>24685</td>\n",
       "      <td>Subscriber</td>\n",
       "      <td>1993.0</td>\n",
       "      <td>1</td>\n",
       "      <td>3.98</td>\n",
       "      <td>0.07</td>\n",
       "      <td>True</td>\n",
       "      <td>30.0</td>\n",
       "      <td>247571</td>\n",
       "    </tr>\n",
       "  </tbody>\n",
       "</table>\n",
       "</div>"
      ],
      "text/plain": [
       "        trip_duration          start_time           stop_time  \\\n",
       "247569           2048 2016-05-31 23:25:28 2016-05-31 23:59:36   \n",
       "247570            455 2016-05-31 23:31:57 2016-05-31 23:39:32   \n",
       "247571            239 2016-05-31 23:47:38 2016-05-31 23:51:37   \n",
       "\n",
       "        start_station_id start_station_name  start_station_latitude  \\\n",
       "247569              3199       Newport Pkwy               40.728745   \n",
       "247570              3220  5 Corners Library               40.734961   \n",
       "247571              3185          City Hall               40.717732   \n",
       "\n",
       "        start_station_longitude  end_station_id end_station_name  \\\n",
       "247569               -74.032108            3199     Newport Pkwy   \n",
       "247570               -74.059503            3215      Central Ave   \n",
       "247571               -74.043845            3211       Newark Ave   \n",
       "\n",
       "        end_station_latitude  end_station_longitude  bike_id   user_type  \\\n",
       "247569             40.728745             -74.032108    24573  Subscriber   \n",
       "247570             40.746730             -74.049251    24561  Subscriber   \n",
       "247571             40.721525             -74.046305    24685  Subscriber   \n",
       "\n",
       "        birth_year  gender  trip_minutes  trip_hours  valid_duration   age  \\\n",
       "247569      1975.0       1         34.13        0.57            True  48.0   \n",
       "247570      1964.0       1          7.58        0.13            True  59.0   \n",
       "247571      1993.0       1          3.98        0.07            True  30.0   \n",
       "\n",
       "            id  \n",
       "247569  247569  \n",
       "247570  247570  \n",
       "247571  247571  "
      ]
     },
     "execution_count": 234,
     "metadata": {},
     "output_type": "execute_result"
    }
   ],
   "source": [
    "bikes_df.tail(3)"
   ]
  },
  {
   "cell_type": "markdown",
   "id": "1ea3aad3",
   "metadata": {},
   "source": [
    "* There are 19487 rows in the data set\n",
    "* Trip Duration is in seconds\n",
    "* Gender can be 0=unknown, 1=male, and 2=female\n",
    "* User Type has values Customer=24 hour pass or 3 day user and Subscriber=Annual Member"
   ]
  },
  {
   "cell_type": "code",
   "execution_count": 209,
   "id": "8af9748b",
   "metadata": {
    "scrolled": true
   },
   "outputs": [
    {
     "data": {
      "text/html": [
       "<div>\n",
       "<style scoped>\n",
       "    .dataframe tbody tr th:only-of-type {\n",
       "        vertical-align: middle;\n",
       "    }\n",
       "\n",
       "    .dataframe tbody tr th {\n",
       "        vertical-align: top;\n",
       "    }\n",
       "\n",
       "    .dataframe thead th {\n",
       "        text-align: right;\n",
       "    }\n",
       "</style>\n",
       "<table border=\"1\" class=\"dataframe\">\n",
       "  <thead>\n",
       "    <tr style=\"text-align: right;\">\n",
       "      <th></th>\n",
       "      <th>Trip Duration</th>\n",
       "      <th>Start Station ID</th>\n",
       "      <th>Start Station Latitude</th>\n",
       "      <th>Start Station Longitude</th>\n",
       "      <th>End Station ID</th>\n",
       "      <th>End Station Latitude</th>\n",
       "      <th>End Station Longitude</th>\n",
       "      <th>Bike ID</th>\n",
       "      <th>Birth Year</th>\n",
       "      <th>Gender</th>\n",
       "    </tr>\n",
       "  </thead>\n",
       "  <tbody>\n",
       "    <tr>\n",
       "      <th>count</th>\n",
       "      <td>2.475840e+05</td>\n",
       "      <td>247584.000000</td>\n",
       "      <td>247584.000000</td>\n",
       "      <td>247584.000000</td>\n",
       "      <td>247584.000000</td>\n",
       "      <td>247584.000000</td>\n",
       "      <td>247584.000000</td>\n",
       "      <td>247584.000000</td>\n",
       "      <td>228585.000000</td>\n",
       "      <td>247584.000000</td>\n",
       "    </tr>\n",
       "    <tr>\n",
       "      <th>mean</th>\n",
       "      <td>8.856305e+02</td>\n",
       "      <td>3207.065206</td>\n",
       "      <td>40.723121</td>\n",
       "      <td>-74.046438</td>\n",
       "      <td>3203.572553</td>\n",
       "      <td>40.722594</td>\n",
       "      <td>-74.045855</td>\n",
       "      <td>24935.260481</td>\n",
       "      <td>1979.335276</td>\n",
       "      <td>1.123534</td>\n",
       "    </tr>\n",
       "    <tr>\n",
       "      <th>std</th>\n",
       "      <td>3.593798e+04</td>\n",
       "      <td>26.955103</td>\n",
       "      <td>0.008199</td>\n",
       "      <td>0.011211</td>\n",
       "      <td>61.579494</td>\n",
       "      <td>0.007958</td>\n",
       "      <td>0.011283</td>\n",
       "      <td>748.469712</td>\n",
       "      <td>9.596809</td>\n",
       "      <td>0.518687</td>\n",
       "    </tr>\n",
       "    <tr>\n",
       "      <th>min</th>\n",
       "      <td>6.100000e+01</td>\n",
       "      <td>3183.000000</td>\n",
       "      <td>40.692640</td>\n",
       "      <td>-74.096937</td>\n",
       "      <td>147.000000</td>\n",
       "      <td>40.692216</td>\n",
       "      <td>-74.096937</td>\n",
       "      <td>14552.000000</td>\n",
       "      <td>1900.000000</td>\n",
       "      <td>0.000000</td>\n",
       "    </tr>\n",
       "    <tr>\n",
       "      <th>25%</th>\n",
       "      <td>2.480000e+02</td>\n",
       "      <td>3186.000000</td>\n",
       "      <td>40.717732</td>\n",
       "      <td>-74.050656</td>\n",
       "      <td>3186.000000</td>\n",
       "      <td>40.716540</td>\n",
       "      <td>-74.050444</td>\n",
       "      <td>24491.000000</td>\n",
       "      <td>1974.000000</td>\n",
       "      <td>1.000000</td>\n",
       "    </tr>\n",
       "    <tr>\n",
       "      <th>50%</th>\n",
       "      <td>3.900000e+02</td>\n",
       "      <td>3201.000000</td>\n",
       "      <td>40.721525</td>\n",
       "      <td>-74.044247</td>\n",
       "      <td>3199.000000</td>\n",
       "      <td>40.721124</td>\n",
       "      <td>-74.043117</td>\n",
       "      <td>24609.000000</td>\n",
       "      <td>1981.000000</td>\n",
       "      <td>1.000000</td>\n",
       "    </tr>\n",
       "    <tr>\n",
       "      <th>75%</th>\n",
       "      <td>6.660000e+02</td>\n",
       "      <td>3211.000000</td>\n",
       "      <td>40.727596</td>\n",
       "      <td>-74.038051</td>\n",
       "      <td>3211.000000</td>\n",
       "      <td>40.727224</td>\n",
       "      <td>-74.036486</td>\n",
       "      <td>24719.000000</td>\n",
       "      <td>1986.000000</td>\n",
       "      <td>1.000000</td>\n",
       "    </tr>\n",
       "    <tr>\n",
       "      <th>max</th>\n",
       "      <td>1.632981e+07</td>\n",
       "      <td>3426.000000</td>\n",
       "      <td>40.752559</td>\n",
       "      <td>-74.032108</td>\n",
       "      <td>3426.000000</td>\n",
       "      <td>40.801343</td>\n",
       "      <td>-73.957390</td>\n",
       "      <td>27274.000000</td>\n",
       "      <td>2000.000000</td>\n",
       "      <td>2.000000</td>\n",
       "    </tr>\n",
       "  </tbody>\n",
       "</table>\n",
       "</div>"
      ],
      "text/plain": [
       "       Trip Duration  Start Station ID  Start Station Latitude  \\\n",
       "count   2.475840e+05     247584.000000           247584.000000   \n",
       "mean    8.856305e+02       3207.065206               40.723121   \n",
       "std     3.593798e+04         26.955103                0.008199   \n",
       "min     6.100000e+01       3183.000000               40.692640   \n",
       "25%     2.480000e+02       3186.000000               40.717732   \n",
       "50%     3.900000e+02       3201.000000               40.721525   \n",
       "75%     6.660000e+02       3211.000000               40.727596   \n",
       "max     1.632981e+07       3426.000000               40.752559   \n",
       "\n",
       "       Start Station Longitude  End Station ID  End Station Latitude  \\\n",
       "count            247584.000000   247584.000000         247584.000000   \n",
       "mean                -74.046438     3203.572553             40.722594   \n",
       "std                   0.011211       61.579494              0.007958   \n",
       "min                 -74.096937      147.000000             40.692216   \n",
       "25%                 -74.050656     3186.000000             40.716540   \n",
       "50%                 -74.044247     3199.000000             40.721124   \n",
       "75%                 -74.038051     3211.000000             40.727224   \n",
       "max                 -74.032108     3426.000000             40.801343   \n",
       "\n",
       "       End Station Longitude        Bike ID     Birth Year         Gender  \n",
       "count          247584.000000  247584.000000  228585.000000  247584.000000  \n",
       "mean              -74.045855   24935.260481    1979.335276       1.123534  \n",
       "std                 0.011283     748.469712       9.596809       0.518687  \n",
       "min               -74.096937   14552.000000    1900.000000       0.000000  \n",
       "25%               -74.050444   24491.000000    1974.000000       1.000000  \n",
       "50%               -74.043117   24609.000000    1981.000000       1.000000  \n",
       "75%               -74.036486   24719.000000    1986.000000       1.000000  \n",
       "max               -73.957390   27274.000000    2000.000000       2.000000  "
      ]
     },
     "execution_count": 209,
     "metadata": {},
     "output_type": "execute_result"
    }
   ],
   "source": [
    "bikes_df.describe()"
   ]
  },
  {
   "cell_type": "code",
   "execution_count": 210,
   "id": "a80cfcbd",
   "metadata": {},
   "outputs": [
    {
     "name": "stdout",
     "output_type": "stream",
     "text": [
      "Trip Duration 5 max:\n"
     ]
    },
    {
     "data": {
      "text/plain": [
       "8903     16329808\n",
       "18510     4826890\n",
       "3233      2104123\n",
       "3269      2100551\n",
       "3371      2071209\n",
       "Name: Trip Duration, dtype: int64"
      ]
     },
     "metadata": {},
     "output_type": "display_data"
    },
    {
     "name": "stdout",
     "output_type": "stream",
     "text": [
      "Birth Dates 5 min:\n"
     ]
    },
    {
     "data": {
      "text/plain": [
       "4417     1900.0\n",
       "22758    1934.0\n",
       "32771    1937.0\n",
       "6163     1937.0\n",
       "2929     1937.0\n",
       "Name: Birth Year, dtype: float64"
      ]
     },
     "metadata": {},
     "output_type": "display_data"
    }
   ],
   "source": [
    "print(\"Trip Duration 5 max:\")\n",
    "display(bikes_df['Trip Duration'].sort_values(ascending=False).head())\n",
    "print(\"Birth Dates 5 min:\")\n",
    "display(bikes_df['Birth Year'].sort_values().head())"
   ]
  },
  {
   "cell_type": "markdown",
   "id": "0dfe3202",
   "metadata": {},
   "source": [
    "* max Trip Duration looks like outlier\n",
    "* min Birth Year is very small"
   ]
  },
  {
   "cell_type": "code",
   "execution_count": 211,
   "id": "405d1e3f",
   "metadata": {},
   "outputs": [
    {
     "data": {
      "text/plain": [
       "Trip Duration                  0\n",
       "Start Time                     0\n",
       "Stop Time                      0\n",
       "Start Station ID               0\n",
       "Start Station Name             0\n",
       "Start Station Latitude         0\n",
       "Start Station Longitude        0\n",
       "End Station ID                 0\n",
       "End Station Name               0\n",
       "End Station Latitude           0\n",
       "End Station Longitude          0\n",
       "Bike ID                        0\n",
       "User Type                    380\n",
       "Birth Year                 18999\n",
       "Gender                         0\n",
       "dtype: int64"
      ]
     },
     "execution_count": 211,
     "metadata": {},
     "output_type": "execute_result"
    }
   ],
   "source": [
    "# checking for missing values\n",
    "bikes_df.isna().sum()"
   ]
  },
  {
   "cell_type": "markdown",
   "id": "416090d4",
   "metadata": {},
   "source": [
    "* User type - mising data\n",
    "* Birth year - missing data\n",
    "* Gender - data are not missing, but we know from data dictionary, that O represent \"unknown\""
   ]
  },
  {
   "cell_type": "code",
   "execution_count": 212,
   "id": "4720a711",
   "metadata": {},
   "outputs": [
    {
     "data": {
      "text/plain": [
       "0"
      ]
     },
     "execution_count": 212,
     "metadata": {},
     "output_type": "execute_result"
    }
   ],
   "source": [
    "# checking for duplicates\n",
    "bikes_df.duplicated().sum()"
   ]
  },
  {
   "cell_type": "markdown",
   "id": "189dc4a2",
   "metadata": {},
   "source": [
    "We have no duplicates, which is good"
   ]
  },
  {
   "cell_type": "code",
   "execution_count": 213,
   "id": "2f876557",
   "metadata": {
    "scrolled": true
   },
   "outputs": [
    {
     "name": "stdout",
     "output_type": "stream",
     "text": [
      "<class 'pandas.core.frame.DataFrame'>\n",
      "Int64Index: 247584 entries, 0 to 19487\n",
      "Data columns (total 15 columns):\n",
      " #   Column                   Non-Null Count   Dtype  \n",
      "---  ------                   --------------   -----  \n",
      " 0   Trip Duration            247584 non-null  int64  \n",
      " 1   Start Time               247584 non-null  object \n",
      " 2   Stop Time                247584 non-null  object \n",
      " 3   Start Station ID         247584 non-null  int64  \n",
      " 4   Start Station Name       247584 non-null  object \n",
      " 5   Start Station Latitude   247584 non-null  float64\n",
      " 6   Start Station Longitude  247584 non-null  float64\n",
      " 7   End Station ID           247584 non-null  int64  \n",
      " 8   End Station Name         247584 non-null  object \n",
      " 9   End Station Latitude     247584 non-null  float64\n",
      " 10  End Station Longitude    247584 non-null  float64\n",
      " 11  Bike ID                  247584 non-null  int64  \n",
      " 12  User Type                247204 non-null  object \n",
      " 13  Birth Year               228585 non-null  float64\n",
      " 14  Gender                   247584 non-null  int64  \n",
      "dtypes: float64(5), int64(5), object(5)\n",
      "memory usage: 30.2+ MB\n"
     ]
    }
   ],
   "source": [
    "bikes_df.info()"
   ]
  },
  {
   "cell_type": "markdown",
   "id": "afd27e5a",
   "metadata": {},
   "source": [
    "Almost all datatypes are good, except Start and Stop time"
   ]
  },
  {
   "cell_type": "markdown",
   "id": "78cee545",
   "metadata": {},
   "source": [
    "### Citi Bike Data Transformation"
   ]
  },
  {
   "cell_type": "markdown",
   "id": "b0dccc7a",
   "metadata": {},
   "source": [
    "#### Columns to investigate:\n",
    "\n",
    "* Start Time/Stop Time: wrong data types.\n",
    "* Trip Duration: looks like there are outliers.\n",
    "* Birth Year: missing data and possible outliers.\n",
    "* Gender: investigate unknowns.\n",
    "* User type: missing data.\n"
   ]
  },
  {
   "cell_type": "markdown",
   "id": "aefdb314",
   "metadata": {},
   "source": [
    "#### Changing columns names for comfortable work"
   ]
  },
  {
   "cell_type": "code",
   "execution_count": 214,
   "id": "29cb7685",
   "metadata": {},
   "outputs": [
    {
     "data": {
      "text/plain": [
       "Index(['trip_duration', 'start_time', 'stop_time', 'start_station_id',\n",
       "       'start_station_name', 'start_station_latitude',\n",
       "       'start_station_longitude', 'end_station_id', 'end_station_name',\n",
       "       'end_station_latitude', 'end_station_longitude', 'bike_id', 'user_type',\n",
       "       'birth_year', 'gender'],\n",
       "      dtype='object')"
      ]
     },
     "execution_count": 214,
     "metadata": {},
     "output_type": "execute_result"
    }
   ],
   "source": [
    "bikes_df.columns = bikes_df.columns.str.lower().str.replace(' ', '_')\n",
    "bikes_df.columns"
   ]
  },
  {
   "cell_type": "markdown",
   "id": "dc1dd5d5",
   "metadata": {},
   "source": [
    "Looks good, let's start transformation"
   ]
  },
  {
   "cell_type": "markdown",
   "id": "31142c7b",
   "metadata": {},
   "source": [
    "#### Start Time/ Stop Time"
   ]
  },
  {
   "cell_type": "code",
   "execution_count": 215,
   "id": "90afc8d6",
   "metadata": {},
   "outputs": [
    {
     "data": {
      "text/plain": [
       "trip_duration                       int64\n",
       "start_time                 datetime64[ns]\n",
       "stop_time                  datetime64[ns]\n",
       "start_station_id                    int64\n",
       "start_station_name                 object\n",
       "start_station_latitude            float64\n",
       "start_station_longitude           float64\n",
       "end_station_id                      int64\n",
       "end_station_name                   object\n",
       "end_station_latitude              float64\n",
       "end_station_longitude             float64\n",
       "bike_id                             int64\n",
       "user_type                          object\n",
       "birth_year                        float64\n",
       "gender                              int64\n",
       "dtype: object"
      ]
     },
     "execution_count": 215,
     "metadata": {},
     "output_type": "execute_result"
    }
   ],
   "source": [
    "# casting objects as timestamps\n",
    "bikes_df.start_time = pd.to_datetime(bikes_df.start_time,infer_datetime_format=True)\n",
    "bikes_df.stop_time = pd.to_datetime(bikes_df.stop_time,infer_datetime_format=True)\n",
    "bikes_df.dtypes"
   ]
  },
  {
   "cell_type": "markdown",
   "id": "348a2b45",
   "metadata": {},
   "source": [
    "#### Trip Duration"
   ]
  },
  {
   "cell_type": "code",
   "execution_count": 216,
   "id": "f66bbd43",
   "metadata": {},
   "outputs": [
    {
     "data": {
      "text/html": [
       "<div>\n",
       "<style scoped>\n",
       "    .dataframe tbody tr th:only-of-type {\n",
       "        vertical-align: middle;\n",
       "    }\n",
       "\n",
       "    .dataframe tbody tr th {\n",
       "        vertical-align: top;\n",
       "    }\n",
       "\n",
       "    .dataframe thead th {\n",
       "        text-align: right;\n",
       "    }\n",
       "</style>\n",
       "<table border=\"1\" class=\"dataframe\">\n",
       "  <thead>\n",
       "    <tr style=\"text-align: right;\">\n",
       "      <th></th>\n",
       "      <th>trip_duration</th>\n",
       "      <th>trip_minutes</th>\n",
       "      <th>trip_hours</th>\n",
       "    </tr>\n",
       "  </thead>\n",
       "  <tbody>\n",
       "    <tr>\n",
       "      <th>count</th>\n",
       "      <td>2.475840e+05</td>\n",
       "      <td>247584.000000</td>\n",
       "      <td>247584.000000</td>\n",
       "    </tr>\n",
       "    <tr>\n",
       "      <th>mean</th>\n",
       "      <td>8.856305e+02</td>\n",
       "      <td>14.760503</td>\n",
       "      <td>0.246006</td>\n",
       "    </tr>\n",
       "    <tr>\n",
       "      <th>std</th>\n",
       "      <td>3.593798e+04</td>\n",
       "      <td>598.966283</td>\n",
       "      <td>9.982777</td>\n",
       "    </tr>\n",
       "    <tr>\n",
       "      <th>min</th>\n",
       "      <td>6.100000e+01</td>\n",
       "      <td>1.020000</td>\n",
       "      <td>0.020000</td>\n",
       "    </tr>\n",
       "    <tr>\n",
       "      <th>25%</th>\n",
       "      <td>2.480000e+02</td>\n",
       "      <td>4.130000</td>\n",
       "      <td>0.070000</td>\n",
       "    </tr>\n",
       "    <tr>\n",
       "      <th>50%</th>\n",
       "      <td>3.900000e+02</td>\n",
       "      <td>6.500000</td>\n",
       "      <td>0.110000</td>\n",
       "    </tr>\n",
       "    <tr>\n",
       "      <th>75%</th>\n",
       "      <td>6.660000e+02</td>\n",
       "      <td>11.100000</td>\n",
       "      <td>0.180000</td>\n",
       "    </tr>\n",
       "    <tr>\n",
       "      <th>max</th>\n",
       "      <td>1.632981e+07</td>\n",
       "      <td>272163.470000</td>\n",
       "      <td>4536.060000</td>\n",
       "    </tr>\n",
       "  </tbody>\n",
       "</table>\n",
       "</div>"
      ],
      "text/plain": [
       "       trip_duration   trip_minutes     trip_hours\n",
       "count   2.475840e+05  247584.000000  247584.000000\n",
       "mean    8.856305e+02      14.760503       0.246006\n",
       "std     3.593798e+04     598.966283       9.982777\n",
       "min     6.100000e+01       1.020000       0.020000\n",
       "25%     2.480000e+02       4.130000       0.070000\n",
       "50%     3.900000e+02       6.500000       0.110000\n",
       "75%     6.660000e+02      11.100000       0.180000\n",
       "max     1.632981e+07  272163.470000    4536.060000"
      ]
     },
     "execution_count": 216,
     "metadata": {},
     "output_type": "execute_result"
    }
   ],
   "source": [
    "# creating an easier to interpret trip time column in minutes and hours\n",
    "bikes_df['trip_minutes'] = round(bikes_df['trip_duration'] / 60, 2)\n",
    "bikes_df['trip_hours'] = round(bikes_df['trip_duration']/(60**2),2)\n",
    "bikes_df[['trip_duration','trip_minutes','trip_hours']].describe()"
   ]
  },
  {
   "cell_type": "markdown",
   "id": "dc8cf5a1",
   "metadata": {},
   "source": [
    "* minimum trip length = 61 seconds\n",
    "* maximum trip = 4,536 hours =189 days\n",
    "\n",
    "According to the data dictionary, trips under 60 seconds were already assumed to be false starts/stops and were pruned.\n",
    "\n",
    "For the max, Citi Bike policies state that the maximum length of a trip is 24 hours (or 86400 seconds).\n",
    "\n",
    "We won't delete the longer trips, since it is possible these correspond to bike docking issues or users breaking the rules (which analysts might want to investigate). However, we will add a flag so that the analytics team can easily filter these out if desired."
   ]
  },
  {
   "cell_type": "code",
   "execution_count": 217,
   "id": "dd46dbf5",
   "metadata": {},
   "outputs": [],
   "source": [
    "# create a column to flag rides that do not comply with system protocols\n",
    "bikes_df['valid_duration'] = bikes_df.trip_duration.apply(lambda x: 0 if x > 86400 else 1).astype(bool)"
   ]
  },
  {
   "cell_type": "markdown",
   "id": "198fc97f",
   "metadata": {},
   "source": [
    "#### Birth Year"
   ]
  },
  {
   "cell_type": "code",
   "execution_count": 218,
   "id": "a8ca23c0",
   "metadata": {},
   "outputs": [
    {
     "data": {
      "text/plain": [
       "4417     123.0\n",
       "22758     89.0\n",
       "6163      86.0\n",
       "2929      86.0\n",
       "32771     86.0\n",
       "16672     86.0\n",
       "23319     83.0\n",
       "2201      83.0\n",
       "29718     83.0\n",
       "7314      82.0\n",
       "Name: age, dtype: float64"
      ]
     },
     "execution_count": 218,
     "metadata": {},
     "output_type": "execute_result"
    }
   ],
   "source": [
    "#calculating age from birth years\n",
    "bikes_df['age'] = pd.Timestamp.now().year - bikes_df.birth_year\n",
    "bikes_df.age.sort_values(ascending=False).head(10)"
   ]
  },
  {
   "cell_type": "markdown",
   "id": "559525b7",
   "metadata": {},
   "source": [
    "smb is 123 years old in 2023 year, so I guess we can delete this row from the observation."
   ]
  },
  {
   "cell_type": "code",
   "execution_count": 219,
   "id": "67a2d57d",
   "metadata": {},
   "outputs": [],
   "source": [
    "bikes_df.drop(4417, inplace = True)"
   ]
  },
  {
   "cell_type": "markdown",
   "id": "d11a325c",
   "metadata": {},
   "source": [
    "Now let's have a look at missing data"
   ]
  },
  {
   "cell_type": "code",
   "execution_count": 220,
   "id": "4bc3b52e",
   "metadata": {},
   "outputs": [],
   "source": [
    "birth_year_missing_data = bikes_df[bikes_df.birth_year.isnull()]"
   ]
  },
  {
   "cell_type": "code",
   "execution_count": 221,
   "id": "0b025097",
   "metadata": {},
   "outputs": [
    {
     "data": {
      "text/html": [
       "<div>\n",
       "<style scoped>\n",
       "    .dataframe tbody tr th:only-of-type {\n",
       "        vertical-align: middle;\n",
       "    }\n",
       "\n",
       "    .dataframe tbody tr th {\n",
       "        vertical-align: top;\n",
       "    }\n",
       "\n",
       "    .dataframe thead th {\n",
       "        text-align: right;\n",
       "    }\n",
       "</style>\n",
       "<table border=\"1\" class=\"dataframe\">\n",
       "  <thead>\n",
       "    <tr style=\"text-align: right;\">\n",
       "      <th></th>\n",
       "      <th>trip_duration</th>\n",
       "      <th>start_time</th>\n",
       "      <th>stop_time</th>\n",
       "      <th>start_station_id</th>\n",
       "      <th>start_station_name</th>\n",
       "      <th>start_station_latitude</th>\n",
       "      <th>start_station_longitude</th>\n",
       "      <th>end_station_id</th>\n",
       "      <th>end_station_name</th>\n",
       "      <th>end_station_latitude</th>\n",
       "      <th>end_station_longitude</th>\n",
       "      <th>bike_id</th>\n",
       "      <th>user_type</th>\n",
       "      <th>birth_year</th>\n",
       "      <th>gender</th>\n",
       "      <th>trip_minutes</th>\n",
       "      <th>trip_hours</th>\n",
       "      <th>valid_duration</th>\n",
       "      <th>age</th>\n",
       "    </tr>\n",
       "  </thead>\n",
       "  <tbody>\n",
       "    <tr>\n",
       "      <th>125</th>\n",
       "      <td>3665</td>\n",
       "      <td>2016-02-01 09:56:46</td>\n",
       "      <td>2016-02-01 10:57:52</td>\n",
       "      <td>3212</td>\n",
       "      <td>Christ Hospital</td>\n",
       "      <td>40.734786</td>\n",
       "      <td>-74.050444</td>\n",
       "      <td>3185</td>\n",
       "      <td>City Hall</td>\n",
       "      <td>40.717732</td>\n",
       "      <td>-74.043845</td>\n",
       "      <td>24531</td>\n",
       "      <td>Customer</td>\n",
       "      <td>NaN</td>\n",
       "      <td>0</td>\n",
       "      <td>61.08</td>\n",
       "      <td>1.02</td>\n",
       "      <td>True</td>\n",
       "      <td>NaN</td>\n",
       "    </tr>\n",
       "    <tr>\n",
       "      <th>148</th>\n",
       "      <td>1081</td>\n",
       "      <td>2016-02-01 11:43:51</td>\n",
       "      <td>2016-02-01 12:01:53</td>\n",
       "      <td>3183</td>\n",
       "      <td>Exchange Place</td>\n",
       "      <td>40.716247</td>\n",
       "      <td>-74.033459</td>\n",
       "      <td>3192</td>\n",
       "      <td>Liberty Light Rail</td>\n",
       "      <td>40.711242</td>\n",
       "      <td>-74.055701</td>\n",
       "      <td>24624</td>\n",
       "      <td>Customer</td>\n",
       "      <td>NaN</td>\n",
       "      <td>0</td>\n",
       "      <td>18.02</td>\n",
       "      <td>0.30</td>\n",
       "      <td>True</td>\n",
       "      <td>NaN</td>\n",
       "    </tr>\n",
       "    <tr>\n",
       "      <th>154</th>\n",
       "      <td>1100</td>\n",
       "      <td>2016-02-01 12:04:35</td>\n",
       "      <td>2016-02-01 12:22:56</td>\n",
       "      <td>3192</td>\n",
       "      <td>Liberty Light Rail</td>\n",
       "      <td>40.711242</td>\n",
       "      <td>-74.055701</td>\n",
       "      <td>3192</td>\n",
       "      <td>Liberty Light Rail</td>\n",
       "      <td>40.711242</td>\n",
       "      <td>-74.055701</td>\n",
       "      <td>24624</td>\n",
       "      <td>Customer</td>\n",
       "      <td>NaN</td>\n",
       "      <td>0</td>\n",
       "      <td>18.33</td>\n",
       "      <td>0.31</td>\n",
       "      <td>True</td>\n",
       "      <td>NaN</td>\n",
       "    </tr>\n",
       "    <tr>\n",
       "      <th>163</th>\n",
       "      <td>1579</td>\n",
       "      <td>2016-02-01 12:26:09</td>\n",
       "      <td>2016-02-01 12:52:29</td>\n",
       "      <td>3192</td>\n",
       "      <td>Liberty Light Rail</td>\n",
       "      <td>40.711242</td>\n",
       "      <td>-74.055701</td>\n",
       "      <td>3183</td>\n",
       "      <td>Exchange Place</td>\n",
       "      <td>40.716247</td>\n",
       "      <td>-74.033459</td>\n",
       "      <td>24624</td>\n",
       "      <td>Customer</td>\n",
       "      <td>NaN</td>\n",
       "      <td>0</td>\n",
       "      <td>26.32</td>\n",
       "      <td>0.44</td>\n",
       "      <td>True</td>\n",
       "      <td>NaN</td>\n",
       "    </tr>\n",
       "    <tr>\n",
       "      <th>168</th>\n",
       "      <td>1619</td>\n",
       "      <td>2016-02-01 12:53:44</td>\n",
       "      <td>2016-02-01 13:20:44</td>\n",
       "      <td>3186</td>\n",
       "      <td>Grove St PATH</td>\n",
       "      <td>40.719586</td>\n",
       "      <td>-74.043117</td>\n",
       "      <td>3203</td>\n",
       "      <td>Hamilton Park</td>\n",
       "      <td>40.727596</td>\n",
       "      <td>-74.044247</td>\n",
       "      <td>24510</td>\n",
       "      <td>Customer</td>\n",
       "      <td>NaN</td>\n",
       "      <td>0</td>\n",
       "      <td>26.98</td>\n",
       "      <td>0.45</td>\n",
       "      <td>True</td>\n",
       "      <td>NaN</td>\n",
       "    </tr>\n",
       "  </tbody>\n",
       "</table>\n",
       "</div>"
      ],
      "text/plain": [
       "     trip_duration          start_time           stop_time  start_station_id  \\\n",
       "125           3665 2016-02-01 09:56:46 2016-02-01 10:57:52              3212   \n",
       "148           1081 2016-02-01 11:43:51 2016-02-01 12:01:53              3183   \n",
       "154           1100 2016-02-01 12:04:35 2016-02-01 12:22:56              3192   \n",
       "163           1579 2016-02-01 12:26:09 2016-02-01 12:52:29              3192   \n",
       "168           1619 2016-02-01 12:53:44 2016-02-01 13:20:44              3186   \n",
       "\n",
       "     start_station_name  start_station_latitude  start_station_longitude  \\\n",
       "125     Christ Hospital               40.734786               -74.050444   \n",
       "148      Exchange Place               40.716247               -74.033459   \n",
       "154  Liberty Light Rail               40.711242               -74.055701   \n",
       "163  Liberty Light Rail               40.711242               -74.055701   \n",
       "168       Grove St PATH               40.719586               -74.043117   \n",
       "\n",
       "     end_station_id    end_station_name  end_station_latitude  \\\n",
       "125            3185           City Hall             40.717732   \n",
       "148            3192  Liberty Light Rail             40.711242   \n",
       "154            3192  Liberty Light Rail             40.711242   \n",
       "163            3183      Exchange Place             40.716247   \n",
       "168            3203       Hamilton Park             40.727596   \n",
       "\n",
       "     end_station_longitude  bike_id user_type  birth_year  gender  \\\n",
       "125             -74.043845    24531  Customer         NaN       0   \n",
       "148             -74.055701    24624  Customer         NaN       0   \n",
       "154             -74.055701    24624  Customer         NaN       0   \n",
       "163             -74.033459    24624  Customer         NaN       0   \n",
       "168             -74.044247    24510  Customer         NaN       0   \n",
       "\n",
       "     trip_minutes  trip_hours  valid_duration  age  \n",
       "125         61.08        1.02            True  NaN  \n",
       "148         18.02        0.30            True  NaN  \n",
       "154         18.33        0.31            True  NaN  \n",
       "163         26.32        0.44            True  NaN  \n",
       "168         26.98        0.45            True  NaN  "
      ]
     },
     "execution_count": 221,
     "metadata": {},
     "output_type": "execute_result"
    }
   ],
   "source": [
    "birth_year_missing_data.head()"
   ]
  },
  {
   "cell_type": "markdown",
   "id": "e95e5810",
   "metadata": {},
   "source": [
    "As I can see from these 5 rows: In every row, where birth_year is missing, gender is missing also. Additionally, user_type for this rows is always 'Customer'. Let's check if this pattern will cover the rest of the dataset."
   ]
  },
  {
   "cell_type": "code",
   "execution_count": 222,
   "id": "b0e60ea0",
   "metadata": {},
   "outputs": [
    {
     "name": "stdout",
     "output_type": "stream",
     "text": [
      "Length of the Dataframe with missing birth years:\n"
     ]
    },
    {
     "data": {
      "text/plain": [
       "18999"
      ]
     },
     "metadata": {},
     "output_type": "display_data"
    },
    {
     "name": "stdout",
     "output_type": "stream",
     "text": [
      "User type value counts:\n"
     ]
    },
    {
     "data": {
      "text/plain": [
       "Customer      15470\n",
       "Subscriber     3529\n",
       "Name: user_type, dtype: int64"
      ]
     },
     "metadata": {},
     "output_type": "display_data"
    },
    {
     "name": "stdout",
     "output_type": "stream",
     "text": [
      "Gender value counts:\n"
     ]
    },
    {
     "data": {
      "text/plain": [
       "0    18999\n",
       "Name: gender, dtype: int64"
      ]
     },
     "metadata": {},
     "output_type": "display_data"
    }
   ],
   "source": [
    "print('Length of the Dataframe with missing birth years:')\n",
    "display(len(birth_year_missing_data))\n",
    "print('User type value counts:')\n",
    "display(birth_year_missing_data.user_type.value_counts(dropna=False))\n",
    "print('Gender value counts:')\n",
    "display(birth_year_missing_data.gender.value_counts())"
   ]
  },
  {
   "cell_type": "markdown",
   "id": "a283f4fc",
   "metadata": {},
   "source": [
    "* As we can see: all genders are missing.That means that if there is no birth_year ther is also no gender data.\n",
    "* the customer user_type seems to be missing a lot of birth_year data\n",
    "Let's check the percentages for user_type:"
   ]
  },
  {
   "cell_type": "code",
   "execution_count": 223,
   "id": "444302fa",
   "metadata": {},
   "outputs": [
    {
     "data": {
      "text/plain": [
       "Customer      99.67\n",
       "Subscriber     1.52\n",
       "Name: user_type, dtype: float64"
      ]
     },
     "execution_count": 223,
     "metadata": {},
     "output_type": "execute_result"
    }
   ],
   "source": [
    "round(birth_year_missing_data['user_type'].value_counts() / bikes_df['user_type'].value_counts(),4)*100"
   ]
  },
  {
   "cell_type": "markdown",
   "id": "cbd9b710",
   "metadata": {},
   "source": [
    "* 99% of customers are missing birth_year\n",
    "* 1.5% of subscribers are missing birth_year\n",
    "* all records with missing birth_year also have unknown gender, which likely also corresponds to the customer user_type\n",
    "We won't delete records that are missing birth_year, since that would remove all customers. We'll have to keep this missing data in mind when developing the database."
   ]
  },
  {
   "cell_type": "markdown",
   "id": "94158eff",
   "metadata": {},
   "source": [
    "#### user_type"
   ]
  },
  {
   "cell_type": "code",
   "execution_count": 224,
   "id": "85e86b31",
   "metadata": {},
   "outputs": [
    {
     "data": {
      "text/plain": [
       "Subscriber    93.58\n",
       "Customer       6.27\n",
       "NaN            0.15\n",
       "Name: user_type, dtype: float64"
      ]
     },
     "execution_count": 224,
     "metadata": {},
     "output_type": "execute_result"
    }
   ],
   "source": [
    "round(bikes_df.user_type.value_counts(dropna=False) / len(bikes_df.user_type),4)*100"
   ]
  },
  {
   "cell_type": "markdown",
   "id": "9b0eaee2",
   "metadata": {},
   "source": [
    "Less then 1% is missing, so actually we can delete these rows, but let's have a deeper look, maybe birth_year is also missing and we will be able to consider missing user_types as 'Customers'."
   ]
  },
  {
   "cell_type": "code",
   "execution_count": 225,
   "id": "5d1bae93",
   "metadata": {},
   "outputs": [],
   "source": [
    "missing_user_type_data = bikes_df[bikes_df.user_type.isnull()]"
   ]
  },
  {
   "cell_type": "code",
   "execution_count": 226,
   "id": "8e1862c6",
   "metadata": {},
   "outputs": [
    {
     "data": {
      "text/plain": [
       "0"
      ]
     },
     "execution_count": 226,
     "metadata": {},
     "output_type": "execute_result"
    }
   ],
   "source": [
    "missing_user_type_data.birth_year.isnull().sum()"
   ]
  },
  {
   "cell_type": "markdown",
   "id": "d3c4e3fe",
   "metadata": {},
   "source": [
    "There is no missing birth_year, so missing user_types are not 'Customers'. We can delete this rows, but I will better mark them as unknown:"
   ]
  },
  {
   "cell_type": "code",
   "execution_count": 227,
   "id": "1a464d38",
   "metadata": {},
   "outputs": [],
   "source": [
    "bikes_df.fillna({'user_type':'Unknown'},inplace=True)"
   ]
  },
  {
   "cell_type": "code",
   "execution_count": 233,
   "id": "bb342ac2",
   "metadata": {},
   "outputs": [
    {
     "data": {
      "text/html": [
       "<div>\n",
       "<style scoped>\n",
       "    .dataframe tbody tr th:only-of-type {\n",
       "        vertical-align: middle;\n",
       "    }\n",
       "\n",
       "    .dataframe tbody tr th {\n",
       "        vertical-align: top;\n",
       "    }\n",
       "\n",
       "    .dataframe thead th {\n",
       "        text-align: right;\n",
       "    }\n",
       "</style>\n",
       "<table border=\"1\" class=\"dataframe\">\n",
       "  <thead>\n",
       "    <tr style=\"text-align: right;\">\n",
       "      <th></th>\n",
       "      <th>trip_duration</th>\n",
       "      <th>start_time</th>\n",
       "      <th>stop_time</th>\n",
       "      <th>start_station_id</th>\n",
       "      <th>start_station_name</th>\n",
       "      <th>start_station_latitude</th>\n",
       "      <th>start_station_longitude</th>\n",
       "      <th>end_station_id</th>\n",
       "      <th>end_station_name</th>\n",
       "      <th>end_station_latitude</th>\n",
       "      <th>end_station_longitude</th>\n",
       "      <th>bike_id</th>\n",
       "      <th>user_type</th>\n",
       "      <th>birth_year</th>\n",
       "      <th>gender</th>\n",
       "      <th>trip_minutes</th>\n",
       "      <th>trip_hours</th>\n",
       "      <th>valid_duration</th>\n",
       "      <th>age</th>\n",
       "      <th>id</th>\n",
       "    </tr>\n",
       "  </thead>\n",
       "  <tbody>\n",
       "    <tr>\n",
       "      <th>247569</th>\n",
       "      <td>2048</td>\n",
       "      <td>2016-05-31 23:25:28</td>\n",
       "      <td>2016-05-31 23:59:36</td>\n",
       "      <td>3199</td>\n",
       "      <td>Newport Pkwy</td>\n",
       "      <td>40.728745</td>\n",
       "      <td>-74.032108</td>\n",
       "      <td>3199</td>\n",
       "      <td>Newport Pkwy</td>\n",
       "      <td>40.728745</td>\n",
       "      <td>-74.032108</td>\n",
       "      <td>24573</td>\n",
       "      <td>Subscriber</td>\n",
       "      <td>1975.0</td>\n",
       "      <td>1</td>\n",
       "      <td>34.13</td>\n",
       "      <td>0.57</td>\n",
       "      <td>True</td>\n",
       "      <td>48.0</td>\n",
       "      <td>247569</td>\n",
       "    </tr>\n",
       "    <tr>\n",
       "      <th>247570</th>\n",
       "      <td>455</td>\n",
       "      <td>2016-05-31 23:31:57</td>\n",
       "      <td>2016-05-31 23:39:32</td>\n",
       "      <td>3220</td>\n",
       "      <td>5 Corners Library</td>\n",
       "      <td>40.734961</td>\n",
       "      <td>-74.059503</td>\n",
       "      <td>3215</td>\n",
       "      <td>Central Ave</td>\n",
       "      <td>40.746730</td>\n",
       "      <td>-74.049251</td>\n",
       "      <td>24561</td>\n",
       "      <td>Subscriber</td>\n",
       "      <td>1964.0</td>\n",
       "      <td>1</td>\n",
       "      <td>7.58</td>\n",
       "      <td>0.13</td>\n",
       "      <td>True</td>\n",
       "      <td>59.0</td>\n",
       "      <td>247570</td>\n",
       "    </tr>\n",
       "    <tr>\n",
       "      <th>247571</th>\n",
       "      <td>239</td>\n",
       "      <td>2016-05-31 23:47:38</td>\n",
       "      <td>2016-05-31 23:51:37</td>\n",
       "      <td>3185</td>\n",
       "      <td>City Hall</td>\n",
       "      <td>40.717732</td>\n",
       "      <td>-74.043845</td>\n",
       "      <td>3211</td>\n",
       "      <td>Newark Ave</td>\n",
       "      <td>40.721525</td>\n",
       "      <td>-74.046305</td>\n",
       "      <td>24685</td>\n",
       "      <td>Subscriber</td>\n",
       "      <td>1993.0</td>\n",
       "      <td>1</td>\n",
       "      <td>3.98</td>\n",
       "      <td>0.07</td>\n",
       "      <td>True</td>\n",
       "      <td>30.0</td>\n",
       "      <td>247571</td>\n",
       "    </tr>\n",
       "  </tbody>\n",
       "</table>\n",
       "</div>"
      ],
      "text/plain": [
       "        trip_duration          start_time           stop_time  \\\n",
       "247569           2048 2016-05-31 23:25:28 2016-05-31 23:59:36   \n",
       "247570            455 2016-05-31 23:31:57 2016-05-31 23:39:32   \n",
       "247571            239 2016-05-31 23:47:38 2016-05-31 23:51:37   \n",
       "\n",
       "        start_station_id start_station_name  start_station_latitude  \\\n",
       "247569              3199       Newport Pkwy               40.728745   \n",
       "247570              3220  5 Corners Library               40.734961   \n",
       "247571              3185          City Hall               40.717732   \n",
       "\n",
       "        start_station_longitude  end_station_id end_station_name  \\\n",
       "247569               -74.032108            3199     Newport Pkwy   \n",
       "247570               -74.059503            3215      Central Ave   \n",
       "247571               -74.043845            3211       Newark Ave   \n",
       "\n",
       "        end_station_latitude  end_station_longitude  bike_id   user_type  \\\n",
       "247569             40.728745             -74.032108    24573  Subscriber   \n",
       "247570             40.746730             -74.049251    24561  Subscriber   \n",
       "247571             40.721525             -74.046305    24685  Subscriber   \n",
       "\n",
       "        birth_year  gender  trip_minutes  trip_hours  valid_duration   age  \\\n",
       "247569      1975.0       1         34.13        0.57            True  48.0   \n",
       "247570      1964.0       1          7.58        0.13            True  59.0   \n",
       "247571      1993.0       1          3.98        0.07            True  30.0   \n",
       "\n",
       "            id  \n",
       "247569  247569  \n",
       "247570  247570  \n",
       "247571  247571  "
      ]
     },
     "execution_count": 233,
     "metadata": {},
     "output_type": "execute_result"
    }
   ],
   "source": [
    "bikes_df.reset_index(drop=True,inplace=True)\n",
    "bikes_df['id'] = bikes_df.index\n",
    "bikes_df.tail(3)"
   ]
  },
  {
   "cell_type": "markdown",
   "id": "596721ec",
   "metadata": {},
   "source": [
    "### Weather Data Overview"
   ]
  },
  {
   "cell_type": "code",
   "execution_count": 229,
   "id": "8f3297e3",
   "metadata": {},
   "outputs": [
    {
     "data": {
      "text/html": [
       "<div>\n",
       "<style scoped>\n",
       "    .dataframe tbody tr th:only-of-type {\n",
       "        vertical-align: middle;\n",
       "    }\n",
       "\n",
       "    .dataframe tbody tr th {\n",
       "        vertical-align: top;\n",
       "    }\n",
       "\n",
       "    .dataframe thead th {\n",
       "        text-align: right;\n",
       "    }\n",
       "</style>\n",
       "<table border=\"1\" class=\"dataframe\">\n",
       "  <thead>\n",
       "    <tr style=\"text-align: right;\">\n",
       "      <th></th>\n",
       "      <th>STATION</th>\n",
       "      <th>NAME</th>\n",
       "      <th>DATE</th>\n",
       "      <th>AWND</th>\n",
       "      <th>PGTM</th>\n",
       "      <th>PRCP</th>\n",
       "      <th>SNOW</th>\n",
       "      <th>SNWD</th>\n",
       "      <th>TAVG</th>\n",
       "      <th>TMAX</th>\n",
       "      <th>TMIN</th>\n",
       "      <th>TSUN</th>\n",
       "      <th>WDF2</th>\n",
       "      <th>WDF5</th>\n",
       "      <th>WSF2</th>\n",
       "      <th>WSF5</th>\n",
       "    </tr>\n",
       "  </thead>\n",
       "  <tbody>\n",
       "    <tr>\n",
       "      <th>0</th>\n",
       "      <td>USW00014734</td>\n",
       "      <td>NEWARK LIBERTY INTERNATIONAL AIRPORT, NJ US</td>\n",
       "      <td>2016-01-01</td>\n",
       "      <td>12.75</td>\n",
       "      <td>NaN</td>\n",
       "      <td>0.0</td>\n",
       "      <td>0.0</td>\n",
       "      <td>0.0</td>\n",
       "      <td>41</td>\n",
       "      <td>43</td>\n",
       "      <td>34</td>\n",
       "      <td>NaN</td>\n",
       "      <td>270</td>\n",
       "      <td>280.0</td>\n",
       "      <td>25.9</td>\n",
       "      <td>35.1</td>\n",
       "    </tr>\n",
       "    <tr>\n",
       "      <th>1</th>\n",
       "      <td>USW00014734</td>\n",
       "      <td>NEWARK LIBERTY INTERNATIONAL AIRPORT, NJ US</td>\n",
       "      <td>2016-01-02</td>\n",
       "      <td>9.40</td>\n",
       "      <td>NaN</td>\n",
       "      <td>0.0</td>\n",
       "      <td>0.0</td>\n",
       "      <td>0.0</td>\n",
       "      <td>36</td>\n",
       "      <td>42</td>\n",
       "      <td>30</td>\n",
       "      <td>NaN</td>\n",
       "      <td>260</td>\n",
       "      <td>260.0</td>\n",
       "      <td>21.0</td>\n",
       "      <td>25.1</td>\n",
       "    </tr>\n",
       "    <tr>\n",
       "      <th>2</th>\n",
       "      <td>USW00014734</td>\n",
       "      <td>NEWARK LIBERTY INTERNATIONAL AIRPORT, NJ US</td>\n",
       "      <td>2016-01-03</td>\n",
       "      <td>10.29</td>\n",
       "      <td>NaN</td>\n",
       "      <td>0.0</td>\n",
       "      <td>0.0</td>\n",
       "      <td>0.0</td>\n",
       "      <td>37</td>\n",
       "      <td>47</td>\n",
       "      <td>28</td>\n",
       "      <td>NaN</td>\n",
       "      <td>270</td>\n",
       "      <td>250.0</td>\n",
       "      <td>23.9</td>\n",
       "      <td>30.0</td>\n",
       "    </tr>\n",
       "  </tbody>\n",
       "</table>\n",
       "</div>"
      ],
      "text/plain": [
       "       STATION                                         NAME        DATE  \\\n",
       "0  USW00014734  NEWARK LIBERTY INTERNATIONAL AIRPORT, NJ US  2016-01-01   \n",
       "1  USW00014734  NEWARK LIBERTY INTERNATIONAL AIRPORT, NJ US  2016-01-02   \n",
       "2  USW00014734  NEWARK LIBERTY INTERNATIONAL AIRPORT, NJ US  2016-01-03   \n",
       "\n",
       "    AWND  PGTM  PRCP  SNOW  SNWD  TAVG  TMAX  TMIN  TSUN  WDF2   WDF5  WSF2  \\\n",
       "0  12.75   NaN   0.0   0.0   0.0    41    43    34   NaN   270  280.0  25.9   \n",
       "1   9.40   NaN   0.0   0.0   0.0    36    42    30   NaN   260  260.0  21.0   \n",
       "2  10.29   NaN   0.0   0.0   0.0    37    47    28   NaN   270  250.0  23.9   \n",
       "\n",
       "   WSF5  \n",
       "0  35.1  \n",
       "1  25.1  \n",
       "2  30.0  "
      ]
     },
     "execution_count": 229,
     "metadata": {},
     "output_type": "execute_result"
    }
   ],
   "source": [
    "weather_df.head(3)"
   ]
  },
  {
   "cell_type": "code",
   "execution_count": 231,
   "id": "96163884",
   "metadata": {},
   "outputs": [
    {
     "data": {
      "text/html": [
       "<div>\n",
       "<style scoped>\n",
       "    .dataframe tbody tr th:only-of-type {\n",
       "        vertical-align: middle;\n",
       "    }\n",
       "\n",
       "    .dataframe tbody tr th {\n",
       "        vertical-align: top;\n",
       "    }\n",
       "\n",
       "    .dataframe thead th {\n",
       "        text-align: right;\n",
       "    }\n",
       "</style>\n",
       "<table border=\"1\" class=\"dataframe\">\n",
       "  <thead>\n",
       "    <tr style=\"text-align: right;\">\n",
       "      <th></th>\n",
       "      <th>STATION</th>\n",
       "      <th>NAME</th>\n",
       "      <th>DATE</th>\n",
       "      <th>AWND</th>\n",
       "      <th>PGTM</th>\n",
       "      <th>PRCP</th>\n",
       "      <th>SNOW</th>\n",
       "      <th>SNWD</th>\n",
       "      <th>TAVG</th>\n",
       "      <th>TMAX</th>\n",
       "      <th>TMIN</th>\n",
       "      <th>TSUN</th>\n",
       "      <th>WDF2</th>\n",
       "      <th>WDF5</th>\n",
       "      <th>WSF2</th>\n",
       "      <th>WSF5</th>\n",
       "    </tr>\n",
       "  </thead>\n",
       "  <tbody>\n",
       "    <tr>\n",
       "      <th>363</th>\n",
       "      <td>USW00014734</td>\n",
       "      <td>NEWARK LIBERTY INTERNATIONAL AIRPORT, NJ US</td>\n",
       "      <td>2016-12-29</td>\n",
       "      <td>8.05</td>\n",
       "      <td>NaN</td>\n",
       "      <td>0.36</td>\n",
       "      <td>0.0</td>\n",
       "      <td>0.0</td>\n",
       "      <td>38</td>\n",
       "      <td>45</td>\n",
       "      <td>31</td>\n",
       "      <td>NaN</td>\n",
       "      <td>170</td>\n",
       "      <td>150.0</td>\n",
       "      <td>18.1</td>\n",
       "      <td>25.1</td>\n",
       "    </tr>\n",
       "    <tr>\n",
       "      <th>364</th>\n",
       "      <td>USW00014734</td>\n",
       "      <td>NEWARK LIBERTY INTERNATIONAL AIRPORT, NJ US</td>\n",
       "      <td>2016-12-30</td>\n",
       "      <td>14.99</td>\n",
       "      <td>NaN</td>\n",
       "      <td>0.00</td>\n",
       "      <td>0.0</td>\n",
       "      <td>0.0</td>\n",
       "      <td>37</td>\n",
       "      <td>42</td>\n",
       "      <td>32</td>\n",
       "      <td>NaN</td>\n",
       "      <td>270</td>\n",
       "      <td>270.0</td>\n",
       "      <td>25.9</td>\n",
       "      <td>33.1</td>\n",
       "    </tr>\n",
       "    <tr>\n",
       "      <th>365</th>\n",
       "      <td>USW00014734</td>\n",
       "      <td>NEWARK LIBERTY INTERNATIONAL AIRPORT, NJ US</td>\n",
       "      <td>2016-12-31</td>\n",
       "      <td>12.30</td>\n",
       "      <td>NaN</td>\n",
       "      <td>0.00</td>\n",
       "      <td>0.0</td>\n",
       "      <td>0.0</td>\n",
       "      <td>35</td>\n",
       "      <td>44</td>\n",
       "      <td>29</td>\n",
       "      <td>NaN</td>\n",
       "      <td>200</td>\n",
       "      <td>220.0</td>\n",
       "      <td>21.9</td>\n",
       "      <td>28.0</td>\n",
       "    </tr>\n",
       "  </tbody>\n",
       "</table>\n",
       "</div>"
      ],
      "text/plain": [
       "         STATION                                         NAME        DATE  \\\n",
       "363  USW00014734  NEWARK LIBERTY INTERNATIONAL AIRPORT, NJ US  2016-12-29   \n",
       "364  USW00014734  NEWARK LIBERTY INTERNATIONAL AIRPORT, NJ US  2016-12-30   \n",
       "365  USW00014734  NEWARK LIBERTY INTERNATIONAL AIRPORT, NJ US  2016-12-31   \n",
       "\n",
       "      AWND  PGTM  PRCP  SNOW  SNWD  TAVG  TMAX  TMIN  TSUN  WDF2   WDF5  WSF2  \\\n",
       "363   8.05   NaN  0.36   0.0   0.0    38    45    31   NaN   170  150.0  18.1   \n",
       "364  14.99   NaN  0.00   0.0   0.0    37    42    32   NaN   270  270.0  25.9   \n",
       "365  12.30   NaN  0.00   0.0   0.0    35    44    29   NaN   200  220.0  21.9   \n",
       "\n",
       "     WSF5  \n",
       "363  25.1  \n",
       "364  33.1  \n",
       "365  28.0  "
      ]
     },
     "execution_count": 231,
     "metadata": {},
     "output_type": "execute_result"
    }
   ],
   "source": [
    "weather_df.tail(3)"
   ]
  },
  {
   "cell_type": "code",
   "execution_count": 232,
   "id": "d8118951",
   "metadata": {},
   "outputs": [
    {
     "data": {
      "text/html": [
       "<div>\n",
       "<style scoped>\n",
       "    .dataframe tbody tr th:only-of-type {\n",
       "        vertical-align: middle;\n",
       "    }\n",
       "\n",
       "    .dataframe tbody tr th {\n",
       "        vertical-align: top;\n",
       "    }\n",
       "\n",
       "    .dataframe thead th {\n",
       "        text-align: right;\n",
       "    }\n",
       "</style>\n",
       "<table border=\"1\" class=\"dataframe\">\n",
       "  <thead>\n",
       "    <tr style=\"text-align: right;\">\n",
       "      <th></th>\n",
       "      <th>AWND</th>\n",
       "      <th>PGTM</th>\n",
       "      <th>PRCP</th>\n",
       "      <th>SNOW</th>\n",
       "      <th>SNWD</th>\n",
       "      <th>TAVG</th>\n",
       "      <th>TMAX</th>\n",
       "      <th>TMIN</th>\n",
       "      <th>TSUN</th>\n",
       "      <th>WDF2</th>\n",
       "      <th>WDF5</th>\n",
       "      <th>WSF2</th>\n",
       "      <th>WSF5</th>\n",
       "    </tr>\n",
       "  </thead>\n",
       "  <tbody>\n",
       "    <tr>\n",
       "      <th>count</th>\n",
       "      <td>366.000000</td>\n",
       "      <td>0.0</td>\n",
       "      <td>366.000000</td>\n",
       "      <td>366.000000</td>\n",
       "      <td>366.000000</td>\n",
       "      <td>366.000000</td>\n",
       "      <td>366.000000</td>\n",
       "      <td>366.000000</td>\n",
       "      <td>0.0</td>\n",
       "      <td>366.000000</td>\n",
       "      <td>364.000000</td>\n",
       "      <td>366.000000</td>\n",
       "      <td>364.000000</td>\n",
       "    </tr>\n",
       "    <tr>\n",
       "      <th>mean</th>\n",
       "      <td>9.429973</td>\n",
       "      <td>NaN</td>\n",
       "      <td>0.104945</td>\n",
       "      <td>0.098087</td>\n",
       "      <td>0.342623</td>\n",
       "      <td>57.196721</td>\n",
       "      <td>65.991803</td>\n",
       "      <td>48.459016</td>\n",
       "      <td>NaN</td>\n",
       "      <td>217.841530</td>\n",
       "      <td>228.269231</td>\n",
       "      <td>20.484426</td>\n",
       "      <td>26.801648</td>\n",
       "    </tr>\n",
       "    <tr>\n",
       "      <th>std</th>\n",
       "      <td>3.748174</td>\n",
       "      <td>NaN</td>\n",
       "      <td>0.307496</td>\n",
       "      <td>1.276498</td>\n",
       "      <td>2.078510</td>\n",
       "      <td>17.466981</td>\n",
       "      <td>18.606301</td>\n",
       "      <td>17.135790</td>\n",
       "      <td>NaN</td>\n",
       "      <td>102.548282</td>\n",
       "      <td>97.415777</td>\n",
       "      <td>6.848390</td>\n",
       "      <td>8.882610</td>\n",
       "    </tr>\n",
       "    <tr>\n",
       "      <th>min</th>\n",
       "      <td>2.460000</td>\n",
       "      <td>NaN</td>\n",
       "      <td>0.000000</td>\n",
       "      <td>0.000000</td>\n",
       "      <td>0.000000</td>\n",
       "      <td>8.000000</td>\n",
       "      <td>18.000000</td>\n",
       "      <td>0.000000</td>\n",
       "      <td>NaN</td>\n",
       "      <td>10.000000</td>\n",
       "      <td>10.000000</td>\n",
       "      <td>6.900000</td>\n",
       "      <td>10.100000</td>\n",
       "    </tr>\n",
       "    <tr>\n",
       "      <th>25%</th>\n",
       "      <td>6.765000</td>\n",
       "      <td>NaN</td>\n",
       "      <td>0.000000</td>\n",
       "      <td>0.000000</td>\n",
       "      <td>0.000000</td>\n",
       "      <td>43.000000</td>\n",
       "      <td>51.250000</td>\n",
       "      <td>35.000000</td>\n",
       "      <td>NaN</td>\n",
       "      <td>150.000000</td>\n",
       "      <td>150.000000</td>\n",
       "      <td>15.000000</td>\n",
       "      <td>19.900000</td>\n",
       "    </tr>\n",
       "    <tr>\n",
       "      <th>50%</th>\n",
       "      <td>8.720000</td>\n",
       "      <td>NaN</td>\n",
       "      <td>0.000000</td>\n",
       "      <td>0.000000</td>\n",
       "      <td>0.000000</td>\n",
       "      <td>56.000000</td>\n",
       "      <td>66.000000</td>\n",
       "      <td>47.000000</td>\n",
       "      <td>NaN</td>\n",
       "      <td>240.000000</td>\n",
       "      <td>260.000000</td>\n",
       "      <td>19.900000</td>\n",
       "      <td>25.100000</td>\n",
       "    </tr>\n",
       "    <tr>\n",
       "      <th>75%</th>\n",
       "      <td>11.410000</td>\n",
       "      <td>NaN</td>\n",
       "      <td>0.030000</td>\n",
       "      <td>0.000000</td>\n",
       "      <td>0.000000</td>\n",
       "      <td>74.000000</td>\n",
       "      <td>83.000000</td>\n",
       "      <td>64.000000</td>\n",
       "      <td>NaN</td>\n",
       "      <td>300.000000</td>\n",
       "      <td>300.000000</td>\n",
       "      <td>23.900000</td>\n",
       "      <td>31.100000</td>\n",
       "    </tr>\n",
       "    <tr>\n",
       "      <th>max</th>\n",
       "      <td>22.820000</td>\n",
       "      <td>NaN</td>\n",
       "      <td>2.790000</td>\n",
       "      <td>24.000000</td>\n",
       "      <td>20.100000</td>\n",
       "      <td>89.000000</td>\n",
       "      <td>99.000000</td>\n",
       "      <td>80.000000</td>\n",
       "      <td>NaN</td>\n",
       "      <td>360.000000</td>\n",
       "      <td>360.000000</td>\n",
       "      <td>48.100000</td>\n",
       "      <td>66.000000</td>\n",
       "    </tr>\n",
       "  </tbody>\n",
       "</table>\n",
       "</div>"
      ],
      "text/plain": [
       "             AWND  PGTM        PRCP        SNOW        SNWD        TAVG  \\\n",
       "count  366.000000   0.0  366.000000  366.000000  366.000000  366.000000   \n",
       "mean     9.429973   NaN    0.104945    0.098087    0.342623   57.196721   \n",
       "std      3.748174   NaN    0.307496    1.276498    2.078510   17.466981   \n",
       "min      2.460000   NaN    0.000000    0.000000    0.000000    8.000000   \n",
       "25%      6.765000   NaN    0.000000    0.000000    0.000000   43.000000   \n",
       "50%      8.720000   NaN    0.000000    0.000000    0.000000   56.000000   \n",
       "75%     11.410000   NaN    0.030000    0.000000    0.000000   74.000000   \n",
       "max     22.820000   NaN    2.790000   24.000000   20.100000   89.000000   \n",
       "\n",
       "             TMAX        TMIN  TSUN        WDF2        WDF5        WSF2  \\\n",
       "count  366.000000  366.000000   0.0  366.000000  364.000000  366.000000   \n",
       "mean    65.991803   48.459016   NaN  217.841530  228.269231   20.484426   \n",
       "std     18.606301   17.135790   NaN  102.548282   97.415777    6.848390   \n",
       "min     18.000000    0.000000   NaN   10.000000   10.000000    6.900000   \n",
       "25%     51.250000   35.000000   NaN  150.000000  150.000000   15.000000   \n",
       "50%     66.000000   47.000000   NaN  240.000000  260.000000   19.900000   \n",
       "75%     83.000000   64.000000   NaN  300.000000  300.000000   23.900000   \n",
       "max     99.000000   80.000000   NaN  360.000000  360.000000   48.100000   \n",
       "\n",
       "             WSF5  \n",
       "count  364.000000  \n",
       "mean    26.801648  \n",
       "std      8.882610  \n",
       "min     10.100000  \n",
       "25%     19.900000  \n",
       "50%     25.100000  \n",
       "75%     31.100000  \n",
       "max     66.000000  "
      ]
     },
     "execution_count": 232,
     "metadata": {},
     "output_type": "execute_result"
    }
   ],
   "source": [
    "weather_df.describe()"
   ]
  },
  {
   "cell_type": "markdown",
   "id": "20fd5f22",
   "metadata": {},
   "source": [
    "### Cleaning and Transforming Weather Data"
   ]
  },
  {
   "cell_type": "markdown",
   "id": "711c2965",
   "metadata": {},
   "source": [
    "PGTM (peak gust time) and TSUN (total minutes of sun) are entirely missing and will be dropped. WDFx and WSFx refer to the fastest x-minute wind, and are difficult to connect directly to our data (since we don't know when that speed occurred.) We'll therefore stick with AWND (average wind speed) for our wind-speed variable.\n",
    "\n",
    "Also, since all our data is from the same station, we'll drop those details for now."
   ]
  },
  {
   "cell_type": "code",
   "execution_count": 238,
   "id": "a6c4d6b7",
   "metadata": {},
   "outputs": [],
   "source": [
    "weather_df.drop(['STATION','NAME','PGTM','TSUN', 'WDF2', 'WDF5', 'WSF2', 'WSF5'],axis=1, inplace=True)"
   ]
  },
  {
   "cell_type": "markdown",
   "id": "8cf94c4e",
   "metadata": {},
   "source": [
    "Let's rename the columns to make the data clearer"
   ]
  },
  {
   "cell_type": "code",
   "execution_count": 241,
   "id": "1576cb67",
   "metadata": {},
   "outputs": [],
   "source": [
    "weather_df.columns = ['rec_date','avg_wind','prcp','snow_amt','snow_depth','tavg','tmax','tmin']"
   ]
  },
  {
   "cell_type": "markdown",
   "id": "5f857eeb",
   "metadata": {},
   "source": [
    "Lastly, let's add some new columns to assist analysts"
   ]
  },
  {
   "cell_type": "code",
   "execution_count": 243,
   "id": "a72657e0",
   "metadata": {},
   "outputs": [],
   "source": [
    "# create convenience binary columns for weather events\n",
    "weather_df['rain'] = weather_df['prcp'].apply(lambda x: 1 if x > 0 else 0).astype(bool)\n",
    "weather_df['snow'] = weather_df['snow_amt'].apply(lambda x: 1 if x > 0 else 0).astype(bool)"
   ]
  },
  {
   "cell_type": "code",
   "execution_count": 244,
   "id": "6d16e2fa",
   "metadata": {},
   "outputs": [
    {
     "data": {
      "text/html": [
       "<div>\n",
       "<style scoped>\n",
       "    .dataframe tbody tr th:only-of-type {\n",
       "        vertical-align: middle;\n",
       "    }\n",
       "\n",
       "    .dataframe tbody tr th {\n",
       "        vertical-align: top;\n",
       "    }\n",
       "\n",
       "    .dataframe thead th {\n",
       "        text-align: right;\n",
       "    }\n",
       "</style>\n",
       "<table border=\"1\" class=\"dataframe\">\n",
       "  <thead>\n",
       "    <tr style=\"text-align: right;\">\n",
       "      <th></th>\n",
       "      <th>rec_date</th>\n",
       "      <th>avg_wind</th>\n",
       "      <th>prcp</th>\n",
       "      <th>snow_amt</th>\n",
       "      <th>snow_depth</th>\n",
       "      <th>tavg</th>\n",
       "      <th>tmax</th>\n",
       "      <th>tmin</th>\n",
       "      <th>rain</th>\n",
       "      <th>snow</th>\n",
       "    </tr>\n",
       "  </thead>\n",
       "  <tbody>\n",
       "    <tr>\n",
       "      <th>0</th>\n",
       "      <td>2016-01-01</td>\n",
       "      <td>12.75</td>\n",
       "      <td>0.0</td>\n",
       "      <td>0.0</td>\n",
       "      <td>0.0</td>\n",
       "      <td>41</td>\n",
       "      <td>43</td>\n",
       "      <td>34</td>\n",
       "      <td>False</td>\n",
       "      <td>False</td>\n",
       "    </tr>\n",
       "    <tr>\n",
       "      <th>1</th>\n",
       "      <td>2016-01-02</td>\n",
       "      <td>9.40</td>\n",
       "      <td>0.0</td>\n",
       "      <td>0.0</td>\n",
       "      <td>0.0</td>\n",
       "      <td>36</td>\n",
       "      <td>42</td>\n",
       "      <td>30</td>\n",
       "      <td>False</td>\n",
       "      <td>False</td>\n",
       "    </tr>\n",
       "    <tr>\n",
       "      <th>2</th>\n",
       "      <td>2016-01-03</td>\n",
       "      <td>10.29</td>\n",
       "      <td>0.0</td>\n",
       "      <td>0.0</td>\n",
       "      <td>0.0</td>\n",
       "      <td>37</td>\n",
       "      <td>47</td>\n",
       "      <td>28</td>\n",
       "      <td>False</td>\n",
       "      <td>False</td>\n",
       "    </tr>\n",
       "    <tr>\n",
       "      <th>3</th>\n",
       "      <td>2016-01-04</td>\n",
       "      <td>17.22</td>\n",
       "      <td>0.0</td>\n",
       "      <td>0.0</td>\n",
       "      <td>0.0</td>\n",
       "      <td>32</td>\n",
       "      <td>35</td>\n",
       "      <td>14</td>\n",
       "      <td>False</td>\n",
       "      <td>False</td>\n",
       "    </tr>\n",
       "    <tr>\n",
       "      <th>4</th>\n",
       "      <td>2016-01-05</td>\n",
       "      <td>9.84</td>\n",
       "      <td>0.0</td>\n",
       "      <td>0.0</td>\n",
       "      <td>0.0</td>\n",
       "      <td>19</td>\n",
       "      <td>31</td>\n",
       "      <td>10</td>\n",
       "      <td>False</td>\n",
       "      <td>False</td>\n",
       "    </tr>\n",
       "  </tbody>\n",
       "</table>\n",
       "</div>"
      ],
      "text/plain": [
       "     rec_date  avg_wind  prcp  snow_amt  snow_depth  tavg  tmax  tmin   rain  \\\n",
       "0  2016-01-01     12.75   0.0       0.0         0.0    41    43    34  False   \n",
       "1  2016-01-02      9.40   0.0       0.0         0.0    36    42    30  False   \n",
       "2  2016-01-03     10.29   0.0       0.0         0.0    37    47    28  False   \n",
       "3  2016-01-04     17.22   0.0       0.0         0.0    32    35    14  False   \n",
       "4  2016-01-05      9.84   0.0       0.0         0.0    19    31    10  False   \n",
       "\n",
       "    snow  \n",
       "0  False  \n",
       "1  False  \n",
       "2  False  \n",
       "3  False  \n",
       "4  False  "
      ]
     },
     "execution_count": 244,
     "metadata": {},
     "output_type": "execute_result"
    }
   ],
   "source": [
    "weather_df.head()"
   ]
  }
 ],
 "metadata": {
  "kernelspec": {
   "display_name": "Python 3 (ipykernel)",
   "language": "python",
   "name": "python3"
  },
  "language_info": {
   "codemirror_mode": {
    "name": "ipython",
    "version": 3
   },
   "file_extension": ".py",
   "mimetype": "text/x-python",
   "name": "python",
   "nbconvert_exporter": "python",
   "pygments_lexer": "ipython3",
   "version": "3.9.12"
  }
 },
 "nbformat": 4,
 "nbformat_minor": 5
}
